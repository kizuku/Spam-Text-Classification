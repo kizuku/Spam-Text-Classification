{
 "cells": [
  {
   "cell_type": "code",
   "execution_count": 1,
   "metadata": {},
   "outputs": [],
   "source": [
    "# Imports\n",
    "\n",
    "import pandas as pd\n",
    "import numpy as np\n",
    "from sklearn.svm import SVC\n",
    "from sklearn.model_selection import train_test_split, cross_val_score, GridSearchCV\n",
    "from sklearn.metrics import classification_report\n",
    "from sklearn.feature_extraction.text import TfidfVectorizer"
   ]
  },
  {
   "cell_type": "code",
   "execution_count": 2,
   "metadata": {},
   "outputs": [],
   "source": [
    "# Load data\n",
    "\n",
    "data = pd.read_csv(\"data.csv\", sep=\",\")"
   ]
  },
  {
   "cell_type": "code",
   "execution_count": 3,
   "metadata": {},
   "outputs": [],
   "source": [
    "# Define function for model training\n",
    "\n",
    "def run(model, trainData, trainLabels, testData, testLabels):\n",
    "    model.fit(trainData, trainLabels)\n",
    "    cvScores = cross_val_score(model, trainData, trainLabels, cv=5)\n",
    "    cvMeanScore = np.mean(cvScores)\n",
    "    print(\"CV Accuracy: {0}\".format(cvScores))\n",
    "    print(\"Mean CV Accuracy: {0}\".format(cvMeanScore))\n",
    "    testScore = model.score(testData, testLabels)\n",
    "    print(\"Test Accuracy: {0}\".format(testScore))\n",
    "    \n",
    "    return model"
   ]
  },
  {
   "cell_type": "code",
   "execution_count": 4,
   "metadata": {},
   "outputs": [],
   "source": [
    "# Split data into train and test\n",
    "\n",
    "trainCorpus, testCorpus, trainLabels, testLabels = train_test_split(\n",
    "    data.iloc[:, 1:],\n",
    "    data[\"Category\"],\n",
    "    test_size = 0.5,\n",
    "    random_state = 10\n",
    ")"
   ]
  },
  {
   "cell_type": "code",
   "execution_count": 5,
   "metadata": {},
   "outputs": [],
   "source": [
    "tv = TfidfVectorizer()"
   ]
  },
  {
   "cell_type": "code",
   "execution_count": 6,
   "metadata": {},
   "outputs": [],
   "source": [
    "trainVec = tv.fit_transform(trainCorpus.Message)\n",
    "testVec = tv.transform(testCorpus.Message)"
   ]
  },
  {
   "cell_type": "code",
   "execution_count": 7,
   "metadata": {},
   "outputs": [],
   "source": [
    "# Params found through tuning below\n",
    "\n",
    "svm = SVC(kernel = \"rbf\", tol = 1e-3, C = 140, gamma = 6e-3, random_state = 24, max_iter = 4000)"
   ]
  },
  {
   "cell_type": "code",
   "execution_count": 8,
   "metadata": {},
   "outputs": [
    {
     "name": "stdout",
     "output_type": "stream",
     "text": [
      "CV Accuracy: [0.9874552  0.98204668 0.98384201 0.98384201 0.97845601]\n",
      "Mean CV Accuracy: 0.9831283823349614\n",
      "Test Accuracy: 0.9820531227566404\n"
     ]
    },
    {
     "data": {
      "text/plain": [
       "SVC(C=140, gamma=0.006, max_iter=4000, random_state=24)"
      ]
     },
     "execution_count": 8,
     "metadata": {},
     "output_type": "execute_result"
    }
   ],
   "source": [
    "run(svm, trainVec, trainLabels, testVec, testLabels)"
   ]
  },
  {
   "cell_type": "code",
   "execution_count": null,
   "metadata": {
    "scrolled": false
   },
   "outputs": [
    {
     "name": "stdout",
     "output_type": "stream",
     "text": [
      "# Tuning hyper-params for precision\n",
      "\n"
     ]
    }
   ],
   "source": [
    "# Tune parameters by cross validation\n",
    "\n",
    "tunedParams = [{\"C\": [130, 135, 140, 145, 150, 155, 160, 165, 170], \"gamma\": [4e-3, 4.5e-3, 5e-3, 5.5e-3, 6e-3]}]\n",
    "scores = [\"precision\", \"recall\"]\n",
    "\n",
    "for score in scores:\n",
    "    print(\"# Tuning hyper-params for %s\" % score)\n",
    "    print()\n",
    "    \n",
    "    clf = GridSearchCV(SVC(), tunedParams, scoring = \"%s_macro\" % score)\n",
    "    clf.fit(trainVec, trainLabels)\n",
    "    \n",
    "    print(\"Best params found on development set:\")\n",
    "    print()\n",
    "    print(clf.best_params_)\n",
    "    print()\n",
    "    print(\"Grid scores on development set:\")\n",
    "    print()\n",
    "    means = clf.cv_results_[\"mean_test_score\"]\n",
    "    stds = clf.cv_results_[\"std_test_score\"]\n",
    "    for mean, std, params in zip(means, stds, clf.cv_results_[\"params\"]):\n",
    "        print(\"%0.3f (+/-%0.03f) for %r\" % (mean, std * 2, params))\n",
    "    \n",
    "    print()\n",
    "    \n",
    "    print(\"Detailed classification report:\")\n",
    "    print()\n",
    "    print(\"The model is trained on the full development set\")\n",
    "    print(\"The scores are computed on the full evaluation set\")\n",
    "    print()\n",
    "    yTrue, yPred = testLabels, clf.predict(testVec)\n",
    "    print(classification_report(yTrue, yPred))\n",
    "    print()"
   ]
  }
 ],
 "metadata": {
  "kernelspec": {
   "display_name": "Python 3",
   "language": "python",
   "name": "python3"
  },
  "language_info": {
   "codemirror_mode": {
    "name": "ipython",
    "version": 3
   },
   "file_extension": ".py",
   "mimetype": "text/x-python",
   "name": "python",
   "nbconvert_exporter": "python",
   "pygments_lexer": "ipython3",
   "version": "3.7.5"
  }
 },
 "nbformat": 4,
 "nbformat_minor": 4
}
